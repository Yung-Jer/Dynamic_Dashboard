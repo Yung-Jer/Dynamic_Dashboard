{
 "cells": [
  {
   "cell_type": "code",
   "execution_count": 6,
   "metadata": {},
   "outputs": [],
   "source": [
    "import numpy as np\n",
    "import pandas as pd\n",
    "import statsmodels.api as sm\n",
    "from pmdarima.arima import auto_arima\n",
    "import matplotlib.pyplot as plt"
   ]
  },
  {
   "cell_type": "code",
   "execution_count": 30,
   "metadata": {},
   "outputs": [
    {
     "data": {
      "text/html": [
       "<div>\n",
       "<style scoped>\n",
       "    .dataframe tbody tr th:only-of-type {\n",
       "        vertical-align: middle;\n",
       "    }\n",
       "\n",
       "    .dataframe tbody tr th {\n",
       "        vertical-align: top;\n",
       "    }\n",
       "\n",
       "    .dataframe thead th {\n",
       "        text-align: right;\n",
       "    }\n",
       "</style>\n",
       "<table border=\"1\" class=\"dataframe\">\n",
       "  <thead>\n",
       "    <tr style=\"text-align: right;\">\n",
       "      <th></th>\n",
       "      <th>Date</th>\n",
       "      <th>Internet Retail Sales</th>\n",
       "    </tr>\n",
       "  </thead>\n",
       "  <tbody>\n",
       "    <tr>\n",
       "      <th>0</th>\n",
       "      <td>2010-01-01</td>\n",
       "      <td>347.2</td>\n",
       "    </tr>\n",
       "    <tr>\n",
       "      <th>1</th>\n",
       "      <td>2010-02-01</td>\n",
       "      <td>345.5</td>\n",
       "    </tr>\n",
       "    <tr>\n",
       "      <th>2</th>\n",
       "      <td>2010-03-01</td>\n",
       "      <td>347.6</td>\n",
       "    </tr>\n",
       "    <tr>\n",
       "      <th>3</th>\n",
       "      <td>2010-04-01</td>\n",
       "      <td>354.5</td>\n",
       "    </tr>\n",
       "    <tr>\n",
       "      <th>4</th>\n",
       "      <td>2010-05-01</td>\n",
       "      <td>359.4</td>\n",
       "    </tr>\n",
       "    <tr>\n",
       "      <th>...</th>\n",
       "      <td>...</td>\n",
       "      <td>...</td>\n",
       "    </tr>\n",
       "    <tr>\n",
       "      <th>127</th>\n",
       "      <td>2020-08-01</td>\n",
       "      <td>2065.0</td>\n",
       "    </tr>\n",
       "    <tr>\n",
       "      <th>128</th>\n",
       "      <td>2020-09-01</td>\n",
       "      <td>2058.0</td>\n",
       "    </tr>\n",
       "    <tr>\n",
       "      <th>129</th>\n",
       "      <td>2020-10-01</td>\n",
       "      <td>2393.7</td>\n",
       "    </tr>\n",
       "    <tr>\n",
       "      <th>130</th>\n",
       "      <td>2020-11-01</td>\n",
       "      <td>3349.2</td>\n",
       "    </tr>\n",
       "    <tr>\n",
       "      <th>131</th>\n",
       "      <td>2020-12-01</td>\n",
       "      <td>3025.4</td>\n",
       "    </tr>\n",
       "  </tbody>\n",
       "</table>\n",
       "<p>132 rows × 2 columns</p>\n",
       "</div>"
      ],
      "text/plain": [
       "          Date  Internet Retail Sales\n",
       "0   2010-01-01                  347.2\n",
       "1   2010-02-01                  345.5\n",
       "2   2010-03-01                  347.6\n",
       "3   2010-04-01                  354.5\n",
       "4   2010-05-01                  359.4\n",
       "..         ...                    ...\n",
       "127 2020-08-01                 2065.0\n",
       "128 2020-09-01                 2058.0\n",
       "129 2020-10-01                 2393.7\n",
       "130 2020-11-01                 3349.2\n",
       "131 2020-12-01                 3025.4\n",
       "\n",
       "[132 rows x 2 columns]"
      ]
     },
     "execution_count": 30,
     "metadata": {},
     "output_type": "execute_result"
    }
   ],
   "source": [
    "# Read the CSV files into DataFrames\n",
    "df = pd.read_csv(\"UK_Retail Sales_2010-2020.csv\")\n",
    "\n",
    "# Convert the 'Date' column to a DatetimeIndex\n",
    "df['Date'] = pd.to_datetime(df['Date']+' 01', format='%Y %b %d')\n",
    "\n",
    "# Print the resulting DataFrame\n",
    "df"
   ]
  },
  {
   "cell_type": "code",
   "execution_count": 9,
   "metadata": {},
   "outputs": [
    {
     "name": "stdout",
     "output_type": "stream",
     "text": [
      "Performing stepwise search to minimize aic\n",
      " ARIMA(2,1,2)(1,1,1)[12]             : AIC=inf, Time=0.60 sec\n",
      " ARIMA(0,1,0)(0,1,0)[12]             : AIC=898.421, Time=0.01 sec\n",
      " ARIMA(1,1,0)(1,1,0)[12]             : AIC=894.610, Time=0.05 sec\n",
      " ARIMA(0,1,1)(0,1,1)[12]             : AIC=891.127, Time=0.07 sec\n",
      " ARIMA(0,1,1)(0,1,0)[12]             : AIC=889.226, Time=0.02 sec\n",
      " ARIMA(0,1,1)(1,1,0)[12]             : AIC=891.096, Time=0.04 sec\n",
      " ARIMA(0,1,1)(1,1,1)[12]             : AIC=inf, Time=0.32 sec\n",
      " ARIMA(1,1,1)(0,1,0)[12]             : AIC=888.371, Time=0.04 sec\n",
      " ARIMA(1,1,1)(1,1,0)[12]             : AIC=890.354, Time=0.14 sec\n",
      " ARIMA(1,1,1)(0,1,1)[12]             : AIC=890.357, Time=0.15 sec\n",
      " ARIMA(1,1,1)(1,1,1)[12]             : AIC=inf, Time=0.52 sec\n",
      " ARIMA(1,1,0)(0,1,0)[12]             : AIC=892.971, Time=0.01 sec\n",
      " ARIMA(2,1,1)(0,1,0)[12]             : AIC=889.846, Time=0.08 sec\n",
      " ARIMA(1,1,2)(0,1,0)[12]             : AIC=889.740, Time=0.08 sec\n",
      " ARIMA(0,1,2)(0,1,0)[12]             : AIC=889.397, Time=0.04 sec\n",
      " ARIMA(2,1,0)(0,1,0)[12]             : AIC=892.219, Time=0.04 sec\n",
      " ARIMA(2,1,2)(0,1,0)[12]             : AIC=891.668, Time=0.10 sec\n",
      " ARIMA(1,1,1)(0,1,0)[12] intercept   : AIC=inf, Time=0.16 sec\n",
      "\n",
      "Best model:  ARIMA(1,1,1)(0,1,0)[12]          \n",
      "Total fit time: 2.486 seconds\n",
      "                                      SARIMAX Results                                      \n",
      "===========================================================================================\n",
      "Dep. Variable:                                   y   No. Observations:                  101\n",
      "Model:             SARIMAX(1, 1, 1)x(0, 1, [], 12)   Log Likelihood                -441.186\n",
      "Date:                             Tue, 17 Oct 2023   AIC                            888.371\n",
      "Time:                                     22:52:08   BIC                            895.803\n",
      "Sample:                                          0   HQIC                           891.365\n",
      "                                             - 101                                         \n",
      "Covariance Type:                               opg                                         \n",
      "==============================================================================\n",
      "                 coef    std err          z      P>|z|      [0.025      0.975]\n",
      "------------------------------------------------------------------------------\n",
      "ar.L1          0.4685      0.276      1.694      0.090      -0.073       1.010\n",
      "ma.L1         -0.8477      0.158     -5.373      0.000      -1.157      -0.538\n",
      "sigma2      1317.0645    145.583      9.047      0.000    1031.727    1602.402\n",
      "===================================================================================\n",
      "Ljung-Box (L1) (Q):                   0.12   Jarque-Bera (JB):                37.13\n",
      "Prob(Q):                              0.73   Prob(JB):                         0.00\n",
      "Heteroskedasticity (H):               3.74   Skew:                             0.06\n",
      "Prob(H) (two-sided):                  0.00   Kurtosis:                         6.18\n",
      "===================================================================================\n",
      "\n",
      "Warnings:\n",
      "[1] Covariance matrix calculated using the outer product of gradients (complex-step).\n"
     ]
    }
   ],
   "source": [
    "# Replace 'your_data' with your actual time series data\n",
    "model = auto_arima(df.loc[:100, 'Internet Retail Sales'], seasonal=True, m=12, stepwise=True, trace=True)\n",
    "\n",
    "# Display the best model's summary\n",
    "print(model.summary())"
   ]
  },
  {
   "cell_type": "markdown",
   "metadata": {},
   "source": [
    "The results above suggest a SARIMA(1,1,1)x(0,1,0,12) model. "
   ]
  },
  {
   "cell_type": "code",
   "execution_count": 13,
   "metadata": {},
   "outputs": [],
   "source": [
    "# We fit the training data with SARIMA(1,1,1)x(0,1,0,12)\n",
    "# the training data takes the first 100 data points\n",
    "model.fit(df.loc[:100, 'Internet Retail Sales'])\n",
    "\n",
    "# We predict the following 32 data points (32 months)\n",
    "forecast = model.predict(n_periods=len(df.loc[100:, 'Internet Retail Sales']))"
   ]
  },
  {
   "cell_type": "code",
   "execution_count": 29,
   "metadata": {},
   "outputs": [
    {
     "data": {
      "image/png": "[encoded data removed]",
      "text/plain": [
       "<Figure size 640x480 with 1 Axes>"
      ]
     },
     "metadata": {},
     "output_type": "display_data"
    }
   ],
   "source": [
    "# Plot the predictions for training set, validation set and forecast values\n",
    "plt.plot(df.loc[:100, 'Date'], df.loc[:100, 'Internet Retail Sales'], label='Train', color='red')\n",
    "plt.plot(df.loc[100:, 'Date'], df.loc[100:, 'Internet Retail Sales'], label='Valid', color='orange')\n",
    "plt.plot(df.loc[100:, 'Date'],forecast, label='Prediction', color='blue')\n",
    "plt.title('Internet Retail Sales from 2010 to 2020')\n",
    "plt.legend()\n",
    "plt.show()"
   ]
  },
  {
   "cell_type": "markdown",
   "metadata": {},
   "source": [
    "Based on the plot above, it seems like we correctly captured the seasonal pattern, yet it still deviates from the real values. The reason is probably because of **the outbreak of COVID in December 2019** and it directly stimulate the growth of Internet Retail Sales as everyone was required to stay home. \n",
    "\n",
    "This also indirectly reflected that models easily got \"stale\" over a longer period of time, especially when there was a \"black swan\" or economic crisis in the financial industry. This suggested that data scientists must regularly update the model to best capture recent trend in the financial instruments. Moreover, data scientists must also acquire specific domain knowledge to be able to judge if the model results are reasonable. "
   ]
  }
 ],
 "metadata": {
  "kernelspec": {
   "display_name": ".venv",
   "language": "python",
   "name": "python3"
  },
  "language_info": {
   "codemirror_mode": {
    "name": "ipython",
    "version": 3
   },
   "file_extension": ".py",
   "mimetype": "text/x-python",
   "name": "python",
   "nbconvert_exporter": "python",
   "pygments_lexer": "ipython3",
   "version": "3.10.8"
  }
 },
 "nbformat": 4,
 "nbformat_minor": 2
}
